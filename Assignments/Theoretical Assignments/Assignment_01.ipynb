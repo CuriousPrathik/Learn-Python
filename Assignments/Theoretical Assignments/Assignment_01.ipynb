{
 "cells": [
  {
   "cell_type": "markdown",
   "id": "70500ec7",
   "metadata": {},
   "source": [
    " # Assignment 1"
   ]
  },
  {
   "cell_type": "markdown",
   "id": "8603a7b9",
   "metadata": {},
   "source": [
    "## QUESTION-1 :-\n",
    "\n",
    "In the below elements which of them are values or an expression? eg:- values can be\n",
    "integer or string and expressions will be mathematical operators.\n",
    "\n",
    "*, 'hello', -87.8, -, /, +, 6\n",
    "\n",
    "### SOLUTION :-\n",
    "\n",
    "##### Values are\n",
    "\n",
    "-87.8, 'hello', 6\n",
    "\n",
    "##### Expressions are\n",
    "\n",
    "*, -, /, +"
   ]
  },
  {
   "cell_type": "markdown",
   "id": "d16702d3",
   "metadata": {},
   "source": [
    "## QUESTION-2 :-\n",
    "    \n",
    "What is the difference between string and variable?\n",
    "\n",
    "### SOLUTION :-\n",
    "    \n",
    "* String is a primitive data type, \n",
    "* It is a collection of characters surrounded by single ' ', double \" \" or triple quotes ''' '''\n",
    "\n",
    "Variable are used to store data, it is a name that is a reference to a data type."
   ]
  },
  {
   "cell_type": "markdown",
   "id": "db4acc3b",
   "metadata": {},
   "source": [
    "## QUESTION-3 :-\n",
    "    \n",
    "Describe three different data types?\n",
    "\n",
    "### SOLUTION :-\n",
    "    \n",
    "Numeric data type consist of three data types.\n",
    "\n",
    "* Integer Type = Whole number\n",
    "* Float Type = Number with decimal\n",
    "* Complext Type = Number having Real and imaginary number"
   ]
  },
  {
   "cell_type": "markdown",
   "id": "7cfec02a",
   "metadata": {},
   "source": [
    "## QUESTION-4 :-\n",
    "    \n",
    "What is an expression made up of and What do all expressions do?\n",
    "\n",
    "### SOLUTION :-\n",
    "\n",
    "An expression is a combination of operators and operands.\n",
    "\n",
    "It is interpreted to produce some other value."
   ]
  },
  {
   "cell_type": "markdown",
   "id": "ec558268",
   "metadata": {},
   "source": [
    "## QUESTION-5 :-   \n",
    "    \n",
    "This assignment statements, like spam = 10. What is the difference between an\n",
    "expression and a statement?\n",
    "\n",
    "### SOLUTION :-\n",
    "    \n",
    "In programming language terminology, \n",
    "\n",
    "an “expression” is a combination of values and functions that are combined and interpreted by the compiler to create a new value.\n",
    "\n",
    "a “statement” which is just a standalone unit of execution, like spam = 10\n"
   ]
  },
  {
   "cell_type": "markdown",
   "id": "33b491aa",
   "metadata": {},
   "source": [
    "## QUESTION-6 :-\n",
    "    \n",
    "After running the following code, what does the variable bacon contain?\n",
    "bacon = 22\n",
    "bacon + 1\n",
    "\n",
    "### SOLUTION :-\n",
    "    \n",
    "22\n",
    "\n",
    "### REASON :-\n",
    "\n",
    "The expression bacon + 1 does not reassign the value in bacon \n",
    "(that would the case if the expression is like bacon = bacon + 1 or bacon += 1)"
   ]
  },
  {
   "cell_type": "markdown",
   "id": "03b9fb25",
   "metadata": {},
   "source": [
    "## QUESTION-7 :-\n",
    "    \n",
    "What should the values of the following two terms be?\n",
    "    spam + spamspam\n",
    "    spam * 3\n",
    "\n",
    "### SOLUTION :-\n",
    "    \n",
    "    spamspamspam\n",
    "    \n",
    "    spamspamspam\n",
    "    \n",
    "### REASON :-\n",
    "    \n",
    "    + is used for concatination of strings\n",
    "    \n",
    "    string * 3 will print string three times known as String Multiplication"
   ]
  },
  {
   "cell_type": "markdown",
   "id": "07841bbe",
   "metadata": {},
   "source": [
    "## QUESTION-8 :-\n",
    "\n",
    "Why is eggs a valid variable name while 100 is invalid?\n",
    "\n",
    "### REASON :-\n",
    "\n",
    "Variable names cannot begin with a number. The python rules for naming a variable are :-\n",
    "\n",
    "Variable name must start with a letter or the underscore character.\n",
    "Variable name cannot start with a number.\n",
    "Variable name can only contain alpha-numeric characters and underscores (A-z, 0-9, & _ ).\n",
    "Variable names are case-sensitive (age, Age, and AGE are three different variables.\n",
    "The reserved words(keywords) cannot be used naming the variable."
   ]
  },
  {
   "cell_type": "markdown",
   "id": "9b717f21",
   "metadata": {},
   "source": [
    "## QUESTION-9 :-\n",
    "    \n",
    "What three functions can be used to get the integer, floating-point number, or string\n",
    "version of a value?\n",
    "\n",
    "### SOLUTION :-\n",
    "    \n",
    "int() is used to get integer as a value\n",
    "\n",
    "float() is used to get float as a value\n",
    "\n",
    "str() is used to get string as a value\n",
    "\n"
   ]
  },
  {
   "cell_type": "markdown",
   "id": "59568681",
   "metadata": {},
   "source": [
    "## QUESTION-10 :-\n",
    "    \n",
    "Why does this expression cause an error? How can you fix it?\n",
    "\n",
    "'I have eaten' + 99 + 'burritos'\n",
    "\n",
    "### REASON :-\n",
    "\n",
    "Here 99 is a number and not a string\n",
    "\n",
    "Concatination of string with number is not possible, we need to convert 99 into a string to solve this error."
   ]
  }
 ],
 "metadata": {
  "kernelspec": {
   "display_name": "Python 3 (ipykernel)",
   "language": "python",
   "name": "python3"
  },
  "language_info": {
   "codemirror_mode": {
    "name": "ipython",
    "version": 3
   },
   "file_extension": ".py",
   "mimetype": "text/x-python",
   "name": "python",
   "nbconvert_exporter": "python",
   "pygments_lexer": "ipython3",
   "version": "3.9.12"
  }
 },
 "nbformat": 4,
 "nbformat_minor": 5
}
