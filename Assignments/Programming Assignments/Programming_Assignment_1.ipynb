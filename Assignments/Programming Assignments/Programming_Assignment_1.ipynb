{
 "cells": [
  {
   "cell_type": "markdown",
   "id": "662c214b",
   "metadata": {},
   "source": [
    "# Programming Assignment 1"
   ]
  },
  {
   "cell_type": "raw",
   "id": "842961ed",
   "metadata": {},
   "source": [
    "QUESTION1 :-\n",
    "\n",
    "Write a Python program to print 'Hello Python'"
   ]
  },
  {
   "cell_type": "code",
   "execution_count": 1,
   "id": "a082881f",
   "metadata": {},
   "outputs": [
    {
     "name": "stdout",
     "output_type": "stream",
     "text": [
      "Hello Python\n"
     ]
    }
   ],
   "source": [
    "print(\"Hello Python\")"
   ]
  },
  {
   "cell_type": "markdown",
   "id": "b192a8eb",
   "metadata": {},
   "source": [
    "QUESTION2 :-\n",
    "\n",
    "Write a Python program to do arithmetical operations addition and division.?"
   ]
  },
  {
   "cell_type": "code",
   "execution_count": 2,
   "id": "0f15e0ea",
   "metadata": {},
   "outputs": [
    {
     "name": "stdout",
     "output_type": "stream",
     "text": [
      "Enter first number: 5\n",
      "Enter second number: 5\n",
      "The sum of 5 and 5 is 10.0\n",
      "The division of 5 and 5 is 1.0\n"
     ]
    }
   ],
   "source": [
    "# Store input numbers:  \n",
    "\n",
    "num1 = input('Enter first number: ')  \n",
    "num2 = input('Enter second number: ')\n",
    "\n",
    "# Add two numbers  \n",
    "sum = float(num1) + float(num2)  \n",
    " \n",
    "#Divide two numbers  \n",
    "divide = float(num1) / float(num2)  \n",
    "\n",
    "# Display the sum using f-string  \n",
    "\n",
    "print(f'The sum of {num1} and {num2} is {sum}')  \n",
    " \n",
    "# Display the division using f-string\n",
    "\n",
    "print(f'The division of {num1} and {num2} is {divide}')  "
   ]
  },
  {
   "cell_type": "raw",
   "id": "5861201b",
   "metadata": {},
   "source": [
    "QUESTION3 :-\n",
    "    \n",
    "Write a Python program to find the area of a triangle?"
   ]
  },
  {
   "cell_type": "code",
   "execution_count": 3,
   "id": "f872e1fe",
   "metadata": {},
   "outputs": [
    {
     "name": "stdout",
     "output_type": "stream",
     "text": [
      "Enter HEIGHT of Triangle: 100\n",
      "Enter BASE of Triangle: 50\n",
      "The area of Triangle with Height 100 and Base 50 is 2500.0\n"
     ]
    }
   ],
   "source": [
    "# Store input Values in integer form:  \n",
    "\n",
    "height = int(input('Enter HEIGHT of Triangle: '))  \n",
    "base = int(input('Enter BASE of Triangle: '))\n",
    "\n",
    "# Calucalte Area:\n",
    "\n",
    "area = .5 * height * base\n",
    "\n",
    "# Display the Area of Triangle\n",
    "\n",
    "print(f\"The area of Triangle with Height {height} and Base {base} is {area}\")"
   ]
  },
  {
   "cell_type": "markdown",
   "id": "b88eeff6",
   "metadata": {},
   "source": [
    "QUESTION4 :-\n",
    "\n",
    "Write a Python program to swap two variables?"
   ]
  },
  {
   "cell_type": "code",
   "execution_count": 4,
   "id": "9acb05e7",
   "metadata": {},
   "outputs": [
    {
     "name": "stdout",
     "output_type": "stream",
     "text": [
      "Enter First Number: 99\n",
      "Enter Second Number: 66\n",
      "After swapping num1 is 66 and num2 is 99\n"
     ]
    }
   ],
   "source": [
    "# Store input Values in integer form:  \n",
    "\n",
    "num1 = int(input(\"Enter First Number: \"))\n",
    "num2 = int(input(\"Enter Second Number: \"))\n",
    "\n",
    "# Swap numbers using three variables:\n",
    "\n",
    "temp = num1\n",
    "num1 = num2\n",
    "num2 = temp\n",
    "\n",
    "print(f'After swapping num1 is {num1} and num2 is {num2}')"
   ]
  },
  {
   "cell_type": "markdown",
   "id": "3dedaf98",
   "metadata": {},
   "source": [
    "QUESTION5 :-\n",
    "\n",
    "Write a Python program to generate a random number ?"
   ]
  },
  {
   "cell_type": "code",
   "execution_count": 5,
   "id": "ec3e6af3",
   "metadata": {},
   "outputs": [
    {
     "name": "stdout",
     "output_type": "stream",
     "text": [
      "Enter Start Number: 5\n",
      "Enter End Number: 100\n",
      "Random number between 5 and 100 is 98\n"
     ]
    }
   ],
   "source": [
    "# import random module\n",
    "\n",
    "import random\n",
    "\n",
    "# Store input values in integer form:\n",
    "\n",
    "num1 = int(input(\"Enter Start Number: \"))\n",
    "num2 = int(input(\"Enter End Number: \"))\n",
    "\n",
    "# random.randint() method is used to generate random integers between the given range.\n",
    "\n",
    "r = random.randint(num1, num2)\n",
    "\n",
    "print(f\"Random number between {num1} and {num2} is {r}\")"
   ]
  }
 ],
 "metadata": {
  "kernelspec": {
   "display_name": "Python 3 (ipykernel)",
   "language": "python",
   "name": "python3"
  },
  "language_info": {
   "codemirror_mode": {
    "name": "ipython",
    "version": 3
   },
   "file_extension": ".py",
   "mimetype": "text/x-python",
   "name": "python",
   "nbconvert_exporter": "python",
   "pygments_lexer": "ipython3",
   "version": "3.9.12"
  }
 },
 "nbformat": 4,
 "nbformat_minor": 5
}
